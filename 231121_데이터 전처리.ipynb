{
 "cells": [
  {
   "cell_type": "code",
   "execution_count": 3,
   "metadata": {},
   "outputs": [],
   "source": [
    "import os\n",
    "import numpy as np\n",
    "import random\n",
    "import shutil\n",
    "from tqdm import tqdm\n",
    "from natsort import natsorted\n",
    "\n",
    "def listdir(path):\n",
    "    return natsorted(os.listdir(path))\n",
    "\n",
    "def makedirs(path):\n",
    "    os.makedirs(path, exist_ok = True)\n",
    "\n",
    "# path 설정\n",
    "path = '/home/ubuntu/sharedir/5. AffectNet/'"
   ]
  },
  {
   "cell_type": "markdown",
   "metadata": {},
   "source": [
    "### YOLO 형식으로 split"
   ]
  },
  {
   "cell_type": "code",
   "execution_count": 2,
   "metadata": {},
   "outputs": [
    {
     "name": "stderr",
     "output_type": "stream",
     "text": [
      "100%|██████████| 287651/287651 [00:52<00:00, 5456.26it/s]\n",
      "100%|██████████| 3999/3999 [00:00<00:00, 5511.05it/s]\n"
     ]
    }
   ],
   "source": [
    "# 메인 폴더 생성\n",
    "for mode in ['train_set', 'val_set']:\n",
    "    for class_no in range(8):\n",
    "        os.makedirs(f'{path}/new_dataset/{mode}/{class_no}', exist_ok = True)\n",
    "\n",
    "os.makedirs(f'{path}/new_dataset', exist_ok = True)\n",
    "\n",
    "# 데이터 분류\n",
    "for mode in ['train_set', 'val_set']:\n",
    "    img_list = os.listdir(f'{path}/{mode}/images')\n",
    "    for cnt, img_name in enumerate(tqdm(img_list)):\n",
    "        try:\n",
    "            # if cnt == 100: break\n",
    "            label_name = f'{img_name.split(\".\")[0]}_exp.npy'\n",
    "            class_no = np.load(f'{path}/{mode}/annotations/{label_name}')\n",
    "            # 이미지 복사\n",
    "            from_path = f'{path}/{mode}/images/{img_name}'\n",
    "            to_path = f'{path}/new_dataset/{mode}/{class_no}/{img_name}'\n",
    "            shutil.copy(from_path, to_path)\n",
    "        except:\n",
    "            print(f'에러 발생: {img_name}')\n",
    "            continue"
   ]
  },
  {
   "cell_type": "markdown",
   "metadata": {},
   "source": [
    "### 데이터 밸런스 확인"
   ]
  },
  {
   "cell_type": "code",
   "execution_count": 5,
   "metadata": {},
   "outputs": [
    {
     "name": "stdout",
     "output_type": "stream",
     "text": [
      "class:0, len:74874\n",
      "class:1, len:134415\n",
      "class:2, len:25459\n",
      "class:3, len:14090\n",
      "class:4, len:6378\n",
      "class:5, len:3803\n",
      "class:6, len:24882\n",
      "class:7, len:3750\n",
      "class:0, len:500\n",
      "class:1, len:500\n",
      "class:2, len:500\n",
      "class:3, len:500\n",
      "class:4, len:500\n",
      "class:5, len:500\n",
      "class:6, len:500\n",
      "class:7, len:499\n"
     ]
    },
    {
     "data": {
      "text/plain": [
       "'\\n0: Neutral 75,374\\n1: Happy 134,915\\n2: Sad 25,959\\n3: Surprise 14,590\\n4: Fear 6,878\\n5: Disgust 4,303\\n6: Anger 25,382\\n7: Contempt 4,250\\n'"
      ]
     },
     "execution_count": 5,
     "metadata": {},
     "output_type": "execute_result"
    }
   ],
   "source": [
    "for mode in ['train_set', 'val_set']:\n",
    "    folder_list = listdir(f'{path}/new_dataset/{mode}')\n",
    "    for folder in folder_list:\n",
    "        img_list = listdir(f'{path}/new_dataset/{mode}/{folder}')\n",
    "        print(f'class:{folder}, len:{len(img_list)}')\n",
    "\n",
    "'''\n",
    "0: Neutral 75,374\n",
    "1: Happy 134,915\n",
    "2: Sad 25,959\n",
    "3: Surprise 14,590\n",
    "4: Fear 6,878\n",
    "5: Disgust 4,303\n",
    "6: Anger 25,382\n",
    "7: Contempt 4,250\n",
    "'''"
   ]
  },
  {
   "cell_type": "code",
   "execution_count": null,
   "metadata": {},
   "outputs": [],
   "source": []
  },
  {
   "cell_type": "code",
   "execution_count": null,
   "metadata": {},
   "outputs": [],
   "source": []
  },
  {
   "cell_type": "code",
   "execution_count": null,
   "metadata": {},
   "outputs": [],
   "source": []
  },
  {
   "cell_type": "code",
   "execution_count": null,
   "metadata": {},
   "outputs": [],
   "source": []
  }
 ],
 "metadata": {
  "kernelspec": {
   "display_name": "mldl",
   "language": "python",
   "name": "python3"
  },
  "language_info": {
   "codemirror_mode": {
    "name": "ipython",
    "version": 3
   },
   "file_extension": ".py",
   "mimetype": "text/x-python",
   "name": "python",
   "nbconvert_exporter": "python",
   "pygments_lexer": "ipython3",
   "version": "3.8.18"
  }
 },
 "nbformat": 4,
 "nbformat_minor": 5
}
